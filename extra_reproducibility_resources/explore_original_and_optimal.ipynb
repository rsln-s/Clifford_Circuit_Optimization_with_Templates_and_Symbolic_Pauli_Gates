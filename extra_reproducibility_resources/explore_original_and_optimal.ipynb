{
 "cells": [
  {
   "cell_type": "code",
   "execution_count": 19,
   "id": "basic-officer",
   "metadata": {},
   "outputs": [],
   "source": [
    "import pandas as pd\n",
    "from qiskit import QuantumCircuit\n",
    "from qiskit.quantum_info import Clifford"
   ]
  },
  {
   "cell_type": "code",
   "execution_count": 2,
   "id": "unlimited-benefit",
   "metadata": {},
   "outputs": [],
   "source": [
    "df = pd.read_csv(\"../hamiltonian_evolution.csv\").set_index('name')"
   ]
  },
  {
   "cell_type": "markdown",
   "id": "planned-notification",
   "metadata": {},
   "source": [
    "# What are the internal names of the lattices?"
   ]
  },
  {
   "cell_type": "code",
   "execution_count": 5,
   "id": "critical-cherry",
   "metadata": {},
   "outputs": [
    {
     "data": {
      "text/plain": [
       "{'cycle_graph',\n",
       " 'heavy_hex',\n",
       " 'hexagonal_lattice',\n",
       " 'path',\n",
       " 'square_grid',\n",
       " 'triangular_lattice'}"
      ]
     },
     "execution_count": 5,
     "metadata": {},
     "output_type": "execute_result"
    }
   ],
   "source": [
    "set(df['type'])"
   ]
  },
  {
   "cell_type": "markdown",
   "id": "compliant-limitation",
   "metadata": {},
   "source": [
    "# Select all results with less than 10 qubits and desired topology"
   ]
  },
  {
   "cell_type": "code",
   "execution_count": 13,
   "id": "headed-trash",
   "metadata": {},
   "outputs": [],
   "source": [
    "df_path_leq_10q = df[(df['type'] == 'path') & (df['nqubits'] <= 10)]"
   ]
  },
  {
   "cell_type": "markdown",
   "id": "welcome-synthesis",
   "metadata": {},
   "source": [
    "# Read into Qiskit and verify correctness\n",
    "\n",
    "- `original` is the unoptimized circuit\n",
    "- `compiled` is the circuit compiled using the baseline compiler\n",
    "- `optimized` is the circuit optimized using Template Matching and Symbolic Peephole"
   ]
  },
  {
   "cell_type": "code",
   "execution_count": 20,
   "id": "favorite-palace",
   "metadata": {},
   "outputs": [],
   "source": [
    "for index, row in df_path_leq_10q.iterrows():\n",
    "    # read out qiskit circuits\n",
    "    qc_orig = QuantumCircuit.from_qasm_str(row['original'])\n",
    "    qc_opt = QuantumCircuit.from_qasm_str(row['optimized'])\n",
    "    # verify that they produce the same tableau\n",
    "    assert(Clifford(qc_orig) == Clifford(qc_opt))"
   ]
  }
 ],
 "metadata": {
  "kernelspec": {
   "display_name": "Python 3",
   "language": "python",
   "name": "python3"
  },
  "language_info": {
   "codemirror_mode": {
    "name": "ipython",
    "version": 3
   },
   "file_extension": ".py",
   "mimetype": "text/x-python",
   "name": "python",
   "nbconvert_exporter": "python",
   "pygments_lexer": "ipython3",
   "version": "3.8.8"
  }
 },
 "nbformat": 4,
 "nbformat_minor": 5
}
