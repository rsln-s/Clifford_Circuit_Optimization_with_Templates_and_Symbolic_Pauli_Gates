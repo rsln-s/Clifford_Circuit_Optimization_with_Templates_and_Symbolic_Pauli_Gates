{
 "cells": [
  {
   "cell_type": "code",
   "execution_count": 2,
   "id": "printable-encyclopedia",
   "metadata": {},
   "outputs": [],
   "source": [
    "import pandas as pd\n",
    "\n",
    "df = pd.read_csv(\"../hamiltonian_evolution_rev1.csv\").set_index('name')"
   ]
  },
  {
   "cell_type": "markdown",
   "id": "treated-acquisition",
   "metadata": {},
   "source": [
    "# Compare with tket\n",
    "\n",
    "Tket optimization is applied on top of the greedy compiler. Note that tket factors out the SWAP gates."
   ]
  },
  {
   "cell_type": "code",
   "execution_count": null,
   "id": "occasional-ballot",
   "metadata": {
    "scrolled": true
   },
   "outputs": [
    {
     "name": "stderr",
     "output_type": "stream",
     "text": [
      " 13%|█▎        | 300/2264 [01:09<12:35,  2.60it/s]"
     ]
    }
   ],
   "source": [
    "from pytket.qasm import circuit_from_qasm_str, circuit_to_qasm_str\n",
    "from pytket.passes import CliffordSimp, PauliSimp, FullPeepholeOptimise\n",
    "from pytket import OpType\n",
    "from qiskit.exceptions import QiskitError\n",
    "from tqdm import tqdm\n",
    "tqdm.pandas()\n",
    "\n",
    "def tket_get_cost(c):\n",
    "    return c.n_gates_of_type(OpType.CX) + c.n_gates_of_type(OpType.CZ) + 3*c.n_gates_of_type(OpType.SWAP)\n",
    "\n",
    "def tket_optimize(qasm, cost):\n",
    "    \"\"\"\n",
    "    qasm (str): input circuit\n",
    "    cost (int): pre-computed circuit cost for verification\n",
    "    \"\"\"\n",
    "    c = circuit_from_qasm_str(qasm)\n",
    "    cost_before = tket_get_cost(c)\n",
    "    assert cost_before == cost\n",
    "    while (1):\n",
    "        cost_before = tket_get_cost(c)\n",
    "        CliffordSimp().apply(c)\n",
    "        cost_after = tket_get_cost(c)\n",
    "        if cost_after==cost_before:\n",
    "            break        \n",
    "    return cost_after\n",
    "\n",
    "df['tket_cost_keep_repeating'] = df.progress_apply(\n",
    "    lambda row: tket_optimize(row['compiled'], row['compiled_cost']),\n",
    "    axis=1\n",
    ")"
   ]
  },
  {
   "cell_type": "code",
   "execution_count": null,
   "id": "palestinian-serial",
   "metadata": {},
   "outputs": [],
   "source": []
  }
 ],
 "metadata": {
  "kernelspec": {
   "display_name": "Python 3",
   "language": "python",
   "name": "python3"
  },
  "language_info": {
   "codemirror_mode": {
    "name": "ipython",
    "version": 3
   },
   "file_extension": ".py",
   "mimetype": "text/x-python",
   "name": "python",
   "nbconvert_exporter": "python",
   "pygments_lexer": "ipython3",
   "version": "3.8.8"
  }
 },
 "nbformat": 4,
 "nbformat_minor": 5
}
